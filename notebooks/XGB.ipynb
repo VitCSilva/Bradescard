{
 "cells": [
  {
   "cell_type": "code",
   "execution_count": null,
   "metadata": {},
   "outputs": [],
   "source": [
    "from utils.MockData import create_data\n",
    "from sklearn.preprocessing import LabelEncoder\n",
    "from sklearn.model_selection import train_test_split\n",
    "import numpy as np\n",
    "from xgboost import XGBRanker\n"
   ]
  },
  {
   "cell_type": "code",
   "execution_count": null,
   "metadata": {},
   "outputs": [],
   "source": [
    "le_ = LabelEncoder()\n",
    "def get_integer_mapping(le):\n",
    "    '''\n",
    "    Return a dict mapping labels to their integer values\n",
    "    from an SKlearn LabelEncoder\n",
    "    le = a fitted SKlearn LabelEncoder\n",
    "    '''\n",
    "    res = {}\n",
    "    for cl in le.classes_:\n",
    "        res.update({cl:le.transform([cl])[0]})\n",
    "\n",
    "    return res"
   ]
  },
  {
   "cell_type": "code",
   "execution_count": null,
   "metadata": {},
   "outputs": [],
   "source": [
    "df = create_data(inadimplencia_rate=0.3)\n",
    "df['data_vencimento'] = df['data_vencimento'].dt.floor('D')\n",
    "df['data_pagamento'] = df['data_pagamento'].dt.floor('D')\n",
    "df['atraso'] = df['data_pagamento'] - df['data_vencimento']\n",
    "df['atraso'] = df['atraso'].apply(lambda x: x.days if x.days > 0 else 0)\n",
    "df[\"sexo_encoded\"] = le_.fit_transform(df['sexo'])\n",
    "df.drop(columns=[\n",
    "    'sexo',\n",
    "    \"data_vencimento\",\n",
    "    \"data_pagamento\"\n",
    "    ], inplace=True)\n",
    "print(\"Class 'sexo' mapping:\")\n",
    "get_integer_mapping(le_)"
   ]
  },
  {
   "cell_type": "code",
   "execution_count": null,
   "metadata": {},
   "outputs": [],
   "source": [
    "df.head()"
   ]
  },
  {
   "cell_type": "code",
   "execution_count": null,
   "metadata": {},
   "outputs": [],
   "source": [
    "X_train, X_test, y_train, y_test = train_test_split(df.drop( columns = ['chance_inadimplencia', \"inadimplente\"]), df['chance_inadimplencia'], test_size=0.33, random_state=42)"
   ]
  },
  {
   "cell_type": "code",
   "execution_count": null,
   "metadata": {},
   "outputs": [],
   "source": [
    "xgb_rkr = XGBRanker(objective='rank:ndcg', n_estimators=100, random_state=0,learning_rate=0.1)"
   ]
  },
  {
   "cell_type": "code",
   "execution_count": null,
   "metadata": {},
   "outputs": [],
   "source": []
  }
 ],
 "metadata": {
  "kernelspec": {
   "display_name": "BRA",
   "language": "python",
   "name": "python3"
  },
  "language_info": {
   "codemirror_mode": {
    "name": "ipython",
    "version": 3
   },
   "file_extension": ".py",
   "mimetype": "text/x-python",
   "name": "python",
   "nbconvert_exporter": "python",
   "pygments_lexer": "ipython3",
   "version": "3.11.2"
  }
 },
 "nbformat": 4,
 "nbformat_minor": 2
}
